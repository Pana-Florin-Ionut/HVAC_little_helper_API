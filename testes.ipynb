{
 "cells": [
  {
   "cell_type": "code",
   "execution_count": 14,
   "metadata": {},
   "outputs": [
    {
     "name": "stdout",
     "output_type": "stream",
     "text": [
      "['TSS_project1', 'TSS_project2', 'TSS_project3']\n",
      "['TSP_project1', 'TSP_project2', 'TSP_project3']\n"
     ]
    }
   ],
   "source": [
    "def modify_project_name(projects: list[str], old_project_name: str, new_project_name: str):\n",
    "    list_project_name: list[str] = []\n",
    "    for project in projects:\n",
    "        new_prj: str = project.replace(old_project_name, new_project_name)\n",
    "        list_project_name.append(new_prj)\n",
    "    return list_project_name\n",
    "\n",
    "projects = [\"TSP_project1\", \"TSP_project2\", \"TSP_project3\"]\n",
    "\n",
    "print(modify_project_name(projects, \"TSP\", \"TSS\"))\n",
    "print(projects)\n"
   ]
  }
 ],
 "metadata": {
  "kernelspec": {
   "display_name": "venv",
   "language": "python",
   "name": "python3"
  },
  "language_info": {
   "name": "python",
   "version": "3.11.3"
  },
  "orig_nbformat": 4
 },
 "nbformat": 4,
 "nbformat_minor": 2
}
