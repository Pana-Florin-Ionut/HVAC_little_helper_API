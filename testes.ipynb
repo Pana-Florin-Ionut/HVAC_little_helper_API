{
 "cells": [
  {
   "cell_type": "code",
   "execution_count": 14,
   "metadata": {},
   "outputs": [
    {
     "name": "stdout",
     "output_type": "stream",
     "text": [
      "['TSS_project1', 'TSS_project2', 'TSS_project3']\n",
      "['TSP_project1', 'TSP_project2', 'TSP_project3']\n"
     ]
    }
   ],
   "source": [
    "def modify_project_name(projects: list[str], old_project_name: str, new_project_name: str):\n",
    "    list_project_name: list[str] = []\n",
    "    for project in projects:\n",
    "        new_prj: str = project.replace(old_project_name, new_project_name)\n",
    "        list_project_name.append(new_prj)\n",
    "    return list_project_name\n",
    "\n",
    "projects = [\"TSP_project1\", \"TSP_project2\", \"TSP_project3\"]\n",
    "\n",
    "print(modify_project_name(projects, \"TSP\", \"TSS\"))\n",
    "print(projects)\n"
   ]
  },
  {
   "cell_type": "code",
   "execution_count": 8,
   "metadata": {},
   "outputs": [
    {
     "name": "stdout",
     "output_type": "stream",
     "text": [
      "NEW_Project_one\n"
     ]
    }
   ],
   "source": [
    "\n",
    "def rename_v1(old_company_key: str, new_company_key: str, project_name: str):\n",
    "    \"\"\"\n",
    "    Project name is made from company_key and project name\n",
    "    ex: for company with key TS1 project with the name Project_one will be TS1_Project_one\n",
    "    \n",
    "    \"\"\"\n",
    " \n",
    "    return new_company_key + project_name.removeprefix(old_company_key)\n",
    "\n",
    "    \n",
    "\n",
    "print(rename_v1(\"5\", \"NEW\", \"5_Project_one\"))\n"
   ]
  },
  {
   "cell_type": "code",
   "execution_count": 9,
   "metadata": {},
   "outputs": [
    {
     "data": {
      "text/plain": [
       "'Key_old_test_offer (Key_old -> Key_new)'"
      ]
     },
     "execution_count": 9,
     "metadata": {},
     "output_type": "execute_result"
    }
   ],
   "source": [
    "def rename_offer_name(new_company_key: str, old_project_key: str, new_project_key) -> str:\n",
    "    \"\"\"\n",
    "    \n",
    "    \"\"\"\n",
    "\n",
    "pass"
   ]
  }
 ],
 "metadata": {
  "kernelspec": {
   "display_name": "venv",
   "language": "python",
   "name": "python3"
  },
  "language_info": {
   "codemirror_mode": {
    "name": "ipython",
    "version": 3
   },
   "file_extension": ".py",
   "mimetype": "text/x-python",
   "name": "python",
   "nbconvert_exporter": "python",
   "pygments_lexer": "ipython3",
   "version": "3.11.3"
  },
  "orig_nbformat": 4
 },
 "nbformat": 4,
 "nbformat_minor": 2
}
